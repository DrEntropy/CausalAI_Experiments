{
 "cells": [
  {
   "cell_type": "markdown",
   "metadata": {},
   "source": [
    "# Welcome to Causal AI Experiments\n",
    "\n",
    "This starter notebook demonstrates the basic setup and verifies that all required packages are working correctly.\n",
    "\n",
    "## Environment Check\n",
    "\n",
    "Let's verify that our key causal inference packages are installed and working."
   ]
  },
  {
   "cell_type": "code",
   "execution_count": null,
   "metadata": {},
   "outputs": [],
   "source": [
    "# Import core packages\n",
    "import sys\n",
    "import pandas as pd\n",
    "import numpy as np\n",
    "import matplotlib.pyplot as plt\n",
    "import seaborn as sns\n",
    "\n",
    "print(f\"Python version: {sys.version}\")\n",
    "print(f\"NumPy version: {np.__version__}\")\n",
    "print(f\"Pandas version: {pd.__version__}\")"
   ]
  },
  {
   "cell_type": "code",
   "execution_count": null,
   "metadata": {},
   "outputs": [],
   "source": [
    "# Test pgmpy import and basic functionality\n",
    "try:\n",
    "    import pgmpy\n",
    "    from pgmpy.models import BayesianNetwork\n",
    "    from pgmpy.factors.discrete import TabularCPD\n",
    "    \n",
    "    print(f\"✓ pgmpy version: {pgmpy.__version__}\")\n",
    "    print(\"✓ pgmpy imports successful\")\n",
    "    \n",
    "    # Create a simple Bayesian network\n",
    "    model = BayesianNetwork([('Rain', 'Sprinkler'), ('Rain', 'WetGrass'), ('Sprinkler', 'WetGrass')])\n",
    "    print(\"✓ Basic Bayesian network creation successful\")\n",
    "    \n",
    "except ImportError as e:\n",
    "    print(f\"✗ pgmpy import failed: {e}\")"
   ]
  },
  {
   "cell_type": "code",
   "execution_count": null,
   "metadata": {},
   "outputs": [],
   "source": [
    "# Test DoWhy import and basic functionality\n",
    "try:\n",
    "    import dowhy\n",
    "    from dowhy import CausalModel\n",
    "    \n",
    "    print(f\"✓ DoWhy version: {dowhy.__version__}\")\n",
    "    print(\"✓ DoWhy imports successful\")\n",
    "    \n",
    "except ImportError as e:\n",
    "    print(f\"✗ DoWhy import failed: {e}\")"
   ]
  },
  {
   "cell_type": "code",
   "execution_count": null,
   "metadata": {},
   "outputs": [],
   "source": [
    "# Test NetworkX and Graphviz for graph visualization\n",
    "try:\n",
    "    import networkx as nx\n",
    "    import graphviz\n",
    "    \n",
    "    print(f\"✓ NetworkX version: {nx.__version__}\")\n",
    "    print(f\"✓ Graphviz version: {graphviz.__version__}\")\n",
    "    print(\"✓ Graph visualization packages ready\")\n",
    "    \n",
    "except ImportError as e:\n",
    "    print(f\"✗ Graph packages import failed: {e}\")"
   ]
  },
  {
   "cell_type": "markdown",
   "metadata": {},
   "source": [
    "## Simple Causal Graph Example\n",
    "\n",
    "Let's create a simple causal graph to verify everything is working:"
   ]
  },
  {
   "cell_type": "code",
   "execution_count": null,
   "metadata": {},
   "outputs": [],
   "source": [
    "# Create a simple causal graph using NetworkX\n",
    "G = nx.DiGraph()\n",
    "G.add_edges_from([('Education', 'Income'), ('Education', 'Health'), ('Income', 'Health')])\n",
    "\n",
    "# Draw the graph\n",
    "plt.figure(figsize=(8, 6))\n",
    "pos = nx.spring_layout(G)\n",
    "nx.draw(G, pos, with_labels=True, node_color='lightblue', \n",
    "        node_size=3000, font_size=12, font_weight='bold', \n",
    "        arrows=True, arrowsize=20, edge_color='gray')\n",
    "plt.title('Simple Causal Graph: Education → Income → Health')\n",
    "plt.axis('off')\n",
    "plt.tight_layout()\n",
    "plt.show()"
   ]
  },
  {
   "cell_type": "markdown",
   "metadata": {},
   "source": [
    "## Next Steps\n",
    "\n",
    "Now that your environment is set up and verified, you can:\n",
    "\n",
    "1. **Explore pgmpy**: Work with Bayesian Networks, learn parameters from data, and perform inference\n",
    "2. **Use DoWhy**: Implement the four-step causal inference process (model, identify, estimate, validate)\n",
    "3. **Create experiments**: Design and run your own causal inference experiments\n",
    "4. **Visualize results**: Use the plotting libraries to create compelling visualizations of causal relationships\n",
    "\n",
    "### Recommended Learning Path\n",
    "\n",
    "1. Start with simple causal graphs and confounding examples\n",
    "2. Practice with Simpson's Paradox and other classic examples\n",
    "3. Learn about different identification strategies (backdoor, front-door, instrumental variables)\n",
    "4. Apply methods to real-world datasets\n",
    "5. Explore advanced topics like mediation analysis and sensitivity analysis"
   ]
  }
 ],
 "metadata": {
  "kernelspec": {
   "display_name": "Python 3 (ipykernel)",
   "language": "python",
   "name": "python3"
  },
  "language_info": {
   "codemirror_mode": {
    "name": "ipython",
    "version": 3
   },
   "file_extension": ".py",
   "mimetype": "text/x-python",
   "name": "python",
   "nbconvert_exporter": "python",
   "pygments_lexer": "ipython3",
   "version": "3.11.0"
  }
 },
 "nbformat": 4,
 "nbformat_minor": 4
}