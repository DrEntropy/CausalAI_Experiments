{
 "cells": [
  {
   "cell_type": "code",
   "execution_count": 3,
   "id": "29c40b29",
   "metadata": {},
   "outputs": [],
   "source": [
    "import pandas as pd\n",
    "from IPython.display import Image\n",
    "import networkx as nx\n",
    "from pgmpy.models import DiscreteBayesianNetwork\n",
    "from pgmpy.estimators import BayesianEstimator"
   ]
  },
  {
   "cell_type": "markdown",
   "id": "ee4fd6fc",
   "metadata": {},
   "source": [
    "Instructions from course:\n",
    "\n",
    "1- Download data for the transportation model.\n",
    "\n",
    "2- Build the graph using the Python library.\n",
    "\n",
    "3- Train the model parameters using data.\n",
    "\n",
    "4- Answer the questions below.\n",
    "\n",
    "5- Submit your code."
   ]
  },
  {
   "cell_type": "markdown",
   "id": "c9486efc",
   "metadata": {},
   "source": [
    "Age (A): It is recorded as young (young) for individuals below 30 years, adult (adult) for individuals between 30 and 60 years old, and old (old) for people older than 60.\n",
    "\n",
    "Sex (S): The biological sex of individual, recorded as male (M) or female (F).\n",
    "\n",
    "Education (E): The highest level of education or training completed by the individual, recorded either high school (high) or university degree (uni).\n",
    "\n",
    "Occupation (O): It is recorded as an employee (emp) or a self employed (self) worker.\n",
    "\n",
    "Residence (R): The size of the city the individual lives in, recorded as small (small) or big (big).\n",
    "\n",
    "Travel (T): The means of transport favoured by the individual, recorded as car (car), train (train) or other (other)"
   ]
  },
  {
   "cell_type": "code",
   "execution_count": 5,
   "id": "8ebbe348",
   "metadata": {},
   "outputs": [
    {
     "data": {
      "application/vnd.microsoft.datawrangler.viewer.v0+json": {
       "columns": [
        {
         "name": "index",
         "rawType": "int64",
         "type": "integer"
        },
        {
         "name": "A",
         "rawType": "object",
         "type": "string"
        },
        {
         "name": "S",
         "rawType": "object",
         "type": "string"
        },
        {
         "name": "E",
         "rawType": "object",
         "type": "string"
        },
        {
         "name": "O",
         "rawType": "object",
         "type": "string"
        },
        {
         "name": "R",
         "rawType": "object",
         "type": "string"
        },
        {
         "name": "T",
         "rawType": "object",
         "type": "string"
        }
       ],
       "ref": "752e2099-65ad-4807-bfa0-98240230fa69",
       "rows": [
        [
         "0",
         "adult",
         "F",
         "high",
         "emp",
         "small",
         "train"
        ],
        [
         "1",
         "young",
         "M",
         "high",
         "emp",
         "big",
         "car"
        ],
        [
         "2",
         "adult",
         "M",
         "uni",
         "emp",
         "big",
         "other"
        ],
        [
         "3",
         "old",
         "F",
         "uni",
         "emp",
         "big",
         "car"
        ],
        [
         "4",
         "young",
         "F",
         "uni",
         "emp",
         "big",
         "car"
        ]
       ],
       "shape": {
        "columns": 6,
        "rows": 5
       }
      },
      "text/html": [
       "<div>\n",
       "<style scoped>\n",
       "    .dataframe tbody tr th:only-of-type {\n",
       "        vertical-align: middle;\n",
       "    }\n",
       "\n",
       "    .dataframe tbody tr th {\n",
       "        vertical-align: top;\n",
       "    }\n",
       "\n",
       "    .dataframe thead th {\n",
       "        text-align: right;\n",
       "    }\n",
       "</style>\n",
       "<table border=\"1\" class=\"dataframe\">\n",
       "  <thead>\n",
       "    <tr style=\"text-align: right;\">\n",
       "      <th></th>\n",
       "      <th>A</th>\n",
       "      <th>S</th>\n",
       "      <th>E</th>\n",
       "      <th>O</th>\n",
       "      <th>R</th>\n",
       "      <th>T</th>\n",
       "    </tr>\n",
       "  </thead>\n",
       "  <tbody>\n",
       "    <tr>\n",
       "      <th>0</th>\n",
       "      <td>adult</td>\n",
       "      <td>F</td>\n",
       "      <td>high</td>\n",
       "      <td>emp</td>\n",
       "      <td>small</td>\n",
       "      <td>train</td>\n",
       "    </tr>\n",
       "    <tr>\n",
       "      <th>1</th>\n",
       "      <td>young</td>\n",
       "      <td>M</td>\n",
       "      <td>high</td>\n",
       "      <td>emp</td>\n",
       "      <td>big</td>\n",
       "      <td>car</td>\n",
       "    </tr>\n",
       "    <tr>\n",
       "      <th>2</th>\n",
       "      <td>adult</td>\n",
       "      <td>M</td>\n",
       "      <td>uni</td>\n",
       "      <td>emp</td>\n",
       "      <td>big</td>\n",
       "      <td>other</td>\n",
       "    </tr>\n",
       "    <tr>\n",
       "      <th>3</th>\n",
       "      <td>old</td>\n",
       "      <td>F</td>\n",
       "      <td>uni</td>\n",
       "      <td>emp</td>\n",
       "      <td>big</td>\n",
       "      <td>car</td>\n",
       "    </tr>\n",
       "    <tr>\n",
       "      <th>4</th>\n",
       "      <td>young</td>\n",
       "      <td>F</td>\n",
       "      <td>uni</td>\n",
       "      <td>emp</td>\n",
       "      <td>big</td>\n",
       "      <td>car</td>\n",
       "    </tr>\n",
       "  </tbody>\n",
       "</table>\n",
       "</div>"
      ],
      "text/plain": [
       "       A  S     E    O      R      T\n",
       "0  adult  F  high  emp  small  train\n",
       "1  young  M  high  emp    big    car\n",
       "2  adult  M   uni  emp    big  other\n",
       "3    old  F   uni  emp    big    car\n",
       "4  young  F   uni  emp    big    car"
      ]
     },
     "execution_count": 5,
     "metadata": {},
     "output_type": "execute_result"
    }
   ],
   "source": [
    "# import data\n",
    "data = pd.read_csv('https://raw.githubusercontent.com/altdeep/causalML/master/datasets/transportation_survey.csv')\n",
    "\n",
    "# alternatively we also have teh file locally\n",
    "# data = pd.read_csv('../data/transportation_survey.csv')\n",
    "data.head()"
   ]
  },
  {
   "cell_type": "markdown",
   "id": "765ccd34",
   "metadata": {},
   "source": [
    "Build the DAG"
   ]
  },
  {
   "cell_type": "code",
   "execution_count": 6,
   "id": "c22efa38",
   "metadata": {},
   "outputs": [],
   "source": [
    "model = DiscreteBayesianNetwork([('A', 'E'), ('S', 'E'), ('E', 'R'), ('E', 'O'), ('O', 'T'), ('R', 'T')])"
   ]
  },
  {
   "cell_type": "markdown",
   "id": "41410d83",
   "metadata": {},
   "source": [
    "Verify the structure of the DAG."
   ]
  },
  {
   "cell_type": "code",
   "execution_count": 7,
   "id": "5ca19b90",
   "metadata": {},
   "outputs": [
    {
     "data": {
      "image/png": "[encoded data removed]",
      "text/plain": [
       "<IPython.core.display.Image object>"
      ]
     },
     "execution_count": 7,
     "metadata": {},
     "output_type": "execute_result"
    }
   ],
   "source": [
    "model_graphviz = model.to_graphviz()\n",
    "model_graphviz.draw(\"week2dag.png\", prog=\"dot\")\n",
    "Image(\"week2dag.png\")"
   ]
  },
  {
   "cell_type": "markdown",
   "id": "8c37f35d",
   "metadata": {},
   "source": [
    "Fir the model parameters using data."
   ]
  },
  {
   "cell_type": "code",
   "execution_count": 8,
   "id": "775ba4e3",
   "metadata": {},
   "outputs": [
    {
     "name": "stderr",
     "output_type": "stream",
     "text": [
      "INFO:pgmpy: Datatype (N=numerical, C=Categorical Unordered, O=Categorical Ordered) inferred from data: \n",
      " {'A': 'C', 'S': 'C', 'E': 'C', 'O': 'C', 'R': 'C', 'T': 'C'}\n",
      "INFO:pgmpy: Datatype (N=numerical, C=Categorical Unordered, O=Categorical Ordered) inferred from data: \n",
      " {'A': 'C', 'S': 'C', 'E': 'C', 'O': 'C', 'R': 'C', 'T': 'C'}\n"
     ]
    },
    {
     "data": {
      "text/plain": [
       "<pgmpy.models.DiscreteBayesianNetwork.DiscreteBayesianNetwork at 0x31fc312d0>"
      ]
     },
     "execution_count": 8,
     "metadata": {},
     "output_type": "execute_result"
    }
   ],
   "source": [
    "estimator = BayesianEstimator(model, data)\n",
    "model.fit(\n",
    "    data,\n",
    "    estimator=BayesianEstimator,\n",
    "    prior_type=\"dirichlet\",\n",
    "    pseudo_counts=1\n",
    ") "
   ]
  },
  {
   "cell_type": "markdown",
   "id": "5cd51dd7",
   "metadata": {},
   "source": [
    "Examine the conditional probability distributions:"
   ]
  },
  {
   "cell_type": "code",
   "execution_count": 11,
   "id": "22481375",
   "metadata": {},
   "outputs": [
    {
     "data": {
      "text/plain": [
       "[<TabularCPD representing P(A:3) at 0x10d288890>,\n",
       " <TabularCPD representing P(E:2 | A:3, S:2) at 0x31fbff650>,\n",
       " <TabularCPD representing P(R:2 | E:2) at 0x10d288950>,\n",
       " <TabularCPD representing P(O:2 | E:2) at 0x31ed63590>,\n",
       " <TabularCPD representing P(S:2) at 0x31fbea250>,\n",
       " <TabularCPD representing P(T:3 | O:2, R:2) at 0x31fc598d0>]"
      ]
     },
     "execution_count": 11,
     "metadata": {},
     "output_type": "execute_result"
    }
   ],
   "source": [
    "model.get_cpds()"
   ]
  },
  {
   "cell_type": "markdown",
   "id": "3cd86f64",
   "metadata": {},
   "source": [
    "For example, we can look at the distribution of travel means (T) given the residence (R) and the occupation (O) of the individual."
   ]
  },
  {
   "cell_type": "code",
   "execution_count": 20,
   "id": "19e79d70",
   "metadata": {},
   "outputs": [
    {
     "name": "stdout",
     "output_type": "stream",
     "text": [
      "T                car     other     train\n",
      "O    R                                  \n",
      "emp  big    0.700730  0.136253  0.163017\n",
      "     small  0.517647  0.094118  0.388235\n",
      "self big    0.416667  0.333333  0.250000\n",
      "     small  0.500000  0.250000  0.250000\n"
     ]
    }
   ],
   "source": [
    "cpd_T = model.get_cpds()[-1]\n",
    "\n",
    "print(cpd_T.to_dataframe())"
   ]
  },
  {
   "cell_type": "markdown",
   "id": "3695eb0b",
   "metadata": {},
   "source": [
    "For fun lets do inference... Suppose we have an individual that is young (A=young) and live sin a big city (R=big). What is the probability distribution of T?"
   ]
  },
  {
   "cell_type": "code",
   "execution_count": 21,
   "id": "ee8f6bf8",
   "metadata": {},
   "outputs": [
    {
     "name": "stdout",
     "output_type": "stream",
     "text": [
      "+----------+----------+\n",
      "| T        |   phi(T) |\n",
      "+==========+==========+\n",
      "| T(car)   |   0.6935 |\n",
      "+----------+----------+\n",
      "| T(other) |   0.1412 |\n",
      "+----------+----------+\n",
      "| T(train) |   0.1652 |\n",
      "+----------+----------+\n"
     ]
    }
   ],
   "source": [
    "from pgmpy.inference import VariableElimination\n",
    "\n",
    "inference = VariableElimination(model)\n",
    "query = inference.query(['T'], evidence={\"A\": \"young\", \"R\": \"big\"})\n",
    "print(query)"
   ]
  }
 ],
 "metadata": {
  "kernelspec": {
   "display_name": "causal-ai-experiments",
   "language": "python",
   "name": "python3"
  },
  "language_info": {
   "codemirror_mode": {
    "name": "ipython",
    "version": 3
   },
   "file_extension": ".py",
   "mimetype": "text/x-python",
   "name": "python",
   "nbconvert_exporter": "python",
   "pygments_lexer": "ipython3",
   "version": "3.11.13"
  }
 },
 "nbformat": 4,
 "nbformat_minor": 5
}
